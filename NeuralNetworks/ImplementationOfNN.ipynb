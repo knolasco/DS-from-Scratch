{
 "cells": [
  {
   "cell_type": "code",
   "execution_count": 1,
   "metadata": {},
   "outputs": [],
   "source": [
    "import numpy as np\n",
    "import matplotlib.pyplot as plt\n",
    "%matplotlib inline\n",
    "import seaborn as sns\n",
    "from sklearn import datasets"
   ]
  },
  {
   "cell_type": "markdown",
   "metadata": {},
   "source": [
    "### Import Data for both Models"
   ]
  },
  {
   "cell_type": "code",
   "execution_count": 2,
   "metadata": {},
   "outputs": [],
   "source": [
    "## Import Boston and standardize\n",
    "np.random.seed(123)\n",
    "boston = datasets.load_boston()\n",
    "X_boston = boston['data']\n",
    "X_boston = (X_boston - X_boston.mean(0))/(X_boston.std(0))\n",
    "y_boston = boston['target']\n",
    "\n",
    "## Train-test split\n",
    "np.random.seed(123)\n",
    "test_frac = 0.25\n",
    "test_size = int(len(y_boston)*test_frac)\n",
    "test_idxs = np.random.choice(np.arange(len(y_boston)), test_size, replace = False)\n",
    "X_boston_train = np.delete(X_boston, test_idxs, 0)\n",
    "y_boston_train = np.delete(y_boston, test_idxs, 0)\n",
    "X_boston_test = X_boston[test_idxs]\n",
    "y_boston_test = y_boston[test_idxs]\n",
    "\n",
    "## Import cancer and standardize\n",
    "np.random.seed(123)\n",
    "cancer = datasets.load_breast_cancer()\n",
    "X_cancer = cancer['data']\n",
    "X_cancer = (X_cancer - X_cancer.mean(0))/(X_cancer.std(0))\n",
    "y_cancer = 1*(cancer['target'] == 1)\n",
    "\n",
    "## Train-test split\n",
    "np.random.seed(123)\n",
    "test_frac = 0.25\n",
    "test_size = int(len(y_cancer)*test_frac)\n",
    "test_idxs = np.random.choice(np.arange(len(y_cancer)), test_size, replace = False)\n",
    "X_cancer_train = np.delete(X_cancer, test_idxs, 0)\n",
    "y_cancer_train = np.delete(y_cancer, test_idxs, 0)\n",
    "X_cancer_test = X_cancer[test_idxs]\n",
    "y_cancer_test = y_cancer[test_idxs]"
   ]
  },
  {
   "cell_type": "markdown",
   "metadata": {},
   "source": [
    "# FeedForwardNeuralNetwork"
   ]
  },
  {
   "cell_type": "code",
   "execution_count": 3,
   "metadata": {},
   "outputs": [],
   "source": [
    "# import package\n",
    "from MyNN import FeedForwardNeuralNetwork"
   ]
  },
  {
   "cell_type": "code",
   "execution_count": 4,
   "metadata": {},
   "outputs": [],
   "source": [
    "ffnn = FeedForwardNeuralNetwork()\n",
    "ffnn.fit(X_boston_train, y_boston_train, n_hidden = 8)\n",
    "y_boston_test_hat = ffnn.predict(X_boston_test)"
   ]
  },
  {
   "cell_type": "code",
   "execution_count": 5,
   "metadata": {},
   "outputs": [
    {
     "data": {
      "image/png": "[encoded data removed]",
      "text/plain": [
       "<Figure size 432x288 with 1 Axes>"
      ]
     },
     "metadata": {
      "needs_background": "light"
     },
     "output_type": "display_data"
    }
   ],
   "source": [
    "# plot results\n",
    "fig, ax = plt.subplots()\n",
    "sns.scatterplot(y_boston_test, y_boston_test_hat[0])\n",
    "ax.set(xlabel = r'$y$', ylabel = r'$\\hat{y}$', title = r'$y$ vs. $\\hat{y}$')\n",
    "sns.despine()\n",
    "plt.show()"
   ]
  }
 ],
 "metadata": {
  "interpreter": {
   "hash": "a5f53b3e37c66a45eb68e2421370217108d113654c112a6738f8743fa17eb267"
  },
  "kernelspec": {
   "display_name": "Python 3.8.8 64-bit ('venv': venv)",
   "language": "python",
   "name": "python3"
  },
  "language_info": {
   "codemirror_mode": {
    "name": "ipython",
    "version": 3
   },
   "file_extension": ".py",
   "mimetype": "text/x-python",
   "name": "python",
   "nbconvert_exporter": "python",
   "pygments_lexer": "ipython3",
   "version": "3.8.8"
  },
  "orig_nbformat": 4
 },
 "nbformat": 4,
 "nbformat_minor": 2
}
