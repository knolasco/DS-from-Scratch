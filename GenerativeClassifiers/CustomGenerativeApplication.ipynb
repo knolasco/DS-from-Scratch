{
 "cells": [
  {
   "cell_type": "code",
   "execution_count": 1,
   "metadata": {},
   "outputs": [],
   "source": [
    "import numpy as np\n",
    "import matplotlib.pyplot as plt\n",
    "%matplotlib inline\n",
    "import seaborn as sns\n",
    "from sklearn import datasets"
   ]
  },
  {
   "cell_type": "markdown",
   "metadata": {},
   "source": [
    "## LDA"
   ]
  },
  {
   "cell_type": "code",
   "execution_count": 2,
   "metadata": {},
   "outputs": [],
   "source": [
    "# load data for LDA\n",
    "wine = datasets.load_wine()\n",
    "X, y = wine.data, wine.target"
   ]
  },
  {
   "cell_type": "code",
   "execution_count": 3,
   "metadata": {},
   "outputs": [],
   "source": [
    "# import package from my custom generative classifiers\n",
    "from MyGenerativeClassifiers import LDA"
   ]
  },
  {
   "cell_type": "code",
   "execution_count": 4,
   "metadata": {},
   "outputs": [
    {
     "data": {
      "text/plain": [
       "1.0"
      ]
     },
     "execution_count": 4,
     "metadata": {},
     "output_type": "execute_result"
    }
   ],
   "source": [
    "# fit and see what the accuracy is\n",
    "lda = LDA()\n",
    "lda.fit(X, y)\n",
    "yhat = lda.classify(X)\n",
    "np.mean(yhat == y)"
   ]
  },
  {
   "cell_type": "markdown",
   "metadata": {},
   "source": [
    "Above, we can see that the function perfectly fit the data provided. This is great! Although we know that the performance should be tested through a validation set.\n",
    "\n",
    "Next we can visualize the boundaries for LDA. To visualize this in 2D, we will take only 2 columns from the features for the wine dataset."
   ]
  },
  {
   "cell_type": "code",
   "execution_count": 14,
   "metadata": {},
   "outputs": [],
   "source": [
    "def graph_boundaries(X, model, model_title, n0 = 100, n1 = 100, figsize = (10, 8), label_every = 4):\n",
    "    \"\"\"\n",
    "    function that plots fitted model's boundary lines\n",
    "    \"\"\"\n",
    "        \n",
    "    # Generate X for plotting \n",
    "    d0_range = np.linspace(X[:,0].min(), X[:,0].max(), n0)\n",
    "    d1_range = np.linspace(X[:,1].min(), X[:,1].max(), n1)\n",
    "    X_plot = np.array(np.meshgrid(d0_range, d1_range)).T.reshape(-1, 2)\n",
    "    \n",
    "    # Get class predictions\n",
    "    y_plot = model.classify(X_plot).astype(int)\n",
    "    \n",
    "    # Plot \n",
    "    fig, ax = plt.subplots(figsize = figsize)\n",
    "    sns.heatmap(y_plot.reshape(n0, n1).T,\n",
    "               cmap = sns.color_palette('Pastel1', 3),\n",
    "               cbar_kws = {'ticks':sorted(np.unique(y_plot))}) \n",
    "    plt.show()"
   ]
  },
  {
   "cell_type": "code",
   "execution_count": 15,
   "metadata": {},
   "outputs": [
    {
     "data": {
      "image/png": "[encoded data removed]",
      "text/plain": [
       "<Figure size 720x576 with 2 Axes>"
      ]
     },
     "metadata": {
      "needs_background": "light"
     },
     "output_type": "display_data"
    }
   ],
   "source": [
    "X_2d = X.copy()[:,2:4]\n",
    "lda_2d = LDA()\n",
    "lda_2d.fit(X_2d, y)\n",
    "graph_boundaries(X_2d, lda_2d, 'LDA')"
   ]
  }
 ],
 "metadata": {
  "interpreter": {
   "hash": "3820fdb0664e9d1b0388daabf3768f53d7fb49dbb9a8827f43ec5971288e9a11"
  },
  "kernelspec": {
   "display_name": "Python 3.9.5 64-bit ('venv': venv)",
   "language": "python",
   "name": "python3"
  },
  "language_info": {
   "codemirror_mode": {
    "name": "ipython",
    "version": 3
   },
   "file_extension": ".py",
   "mimetype": "text/x-python",
   "name": "python",
   "nbconvert_exporter": "python",
   "pygments_lexer": "ipython3",
   "version": "3.9.5"
  },
  "orig_nbformat": 4
 },
 "nbformat": 4,
 "nbformat_minor": 2
}
