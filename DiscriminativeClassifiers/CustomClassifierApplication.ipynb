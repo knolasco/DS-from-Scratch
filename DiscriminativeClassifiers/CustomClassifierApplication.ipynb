{
 "cells": [
  {
   "cell_type": "code",
   "execution_count": 1,
   "metadata": {},
   "outputs": [],
   "source": [
    "import numpy as np \n",
    "np.set_printoptions(suppress=True)\n",
    "import matplotlib.pyplot as plt\n",
    "import seaborn as sns\n",
    "from sklearn import datasets\n",
    "from myClassifiers import BinaryLogisticRegression, MulticlassLogisticRegression, Perceptron"
   ]
  },
  {
   "cell_type": "code",
   "execution_count": 2,
   "metadata": {},
   "outputs": [],
   "source": [
    "# import data\n",
    "cancer = datasets.load_breast_cancer()\n",
    "X = cancer['data']\n",
    "y = cancer['target']"
   ]
  },
  {
   "cell_type": "markdown",
   "metadata": {},
   "source": [
    "## Binary Logistic Regression"
   ]
  },
  {
   "cell_type": "code",
   "execution_count": 3,
   "metadata": {},
   "outputs": [
    {
     "name": "stdout",
     "output_type": "stream",
     "text": [
      "In-sample accuracy: 0.9894551845342706\n"
     ]
    }
   ],
   "source": [
    "binary_model = BinaryLogisticRegression()\n",
    "binary_model.fit(X, y, n_iter = 10**4, lr = 0.0001)\n",
    "print('In-sample accuracy: '  + str(np.mean(binary_model.yhat == binary_model.y)))"
   ]
  },
  {
   "cell_type": "markdown",
   "metadata": {},
   "source": [
    "The following chart shows that the model is very confident when making it's predictions."
   ]
  },
  {
   "cell_type": "code",
   "execution_count": 4,
   "metadata": {},
   "outputs": [
    {
     "name": "stderr",
     "output_type": "stream",
     "text": [
      "c:\\Users\\nolas\\OneDrive\\Documents\\Python\\DS-from-Scratch\\RegularizedRegression\\venv\\lib\\site-packages\\seaborn\\distributions.py:2619: FutureWarning: `distplot` is a deprecated function and will be removed in a future version. Please adapt your code to use either `displot` (a figure-level function with similar flexibility) or `histplot` (an axes-level function for histograms).\n",
      "  warnings.warn(msg, FutureWarning)\n"
     ]
    },
    {
     "data": {
      "image/png": "[encoded data removed]",
      "text/plain": [
       "<Figure size 432x288 with 1 Axes>"
      ]
     },
     "metadata": {
      "needs_background": "light"
     },
     "output_type": "display_data"
    }
   ],
   "source": [
    "fig, ax = plt.subplots()\n",
    "sns.distplot(binary_model.p[binary_model.yhat == 0], kde = False, bins = 8, label = 'Class 0', color = 'cornflowerblue')\n",
    "sns.distplot(binary_model.p[binary_model.yhat == 1], kde = False, bins = 8, label = 'Class 1', color = 'darkblue')\n",
    "ax.legend(loc = 9, bbox_to_anchor = (0,0,1.59,.9))\n",
    "ax.set_xlabel(r'Estimated $P(Y_n = 1)$', size = 14)\n",
    "ax.set_title(r'Estimated $P(Y_n = 1)$ by True Class', size = 16)\n",
    "sns.despine()\n",
    "plt.show()"
   ]
  },
  {
   "cell_type": "markdown",
   "metadata": {},
   "source": [
    "## Multiclass Logistic Regression"
   ]
  },
  {
   "cell_type": "code",
   "execution_count": 5,
   "metadata": {},
   "outputs": [],
   "source": [
    "# import data for multiclass\n",
    "wine = datasets.load_wine()\n",
    "X = wine['data']\n",
    "y = wine['target']"
   ]
  },
  {
   "cell_type": "code",
   "execution_count": 6,
   "metadata": {},
   "outputs": [
    {
     "name": "stdout",
     "output_type": "stream",
     "text": [
      "In-sample accuracy: 1.0\n"
     ]
    }
   ],
   "source": [
    "# fit model\n",
    "multiclass_model = MulticlassLogisticRegression()\n",
    "multiclass_model.fit(X, y, 10**4, 0.0001)\n",
    "print('In-sample accuracy: '  + str(np.mean(multiclass_model.yhat == y)))"
   ]
  },
  {
   "cell_type": "markdown",
   "metadata": {},
   "source": [
    "we can show how confident the model is when making predictions below."
   ]
  },
  {
   "cell_type": "code",
   "execution_count": 7,
   "metadata": {},
   "outputs": [
    {
     "data": {
      "image/png": "[encoded data removed]",
      "text/plain": [
       "<Figure size 1224x360 with 3 Axes>"
      ]
     },
     "metadata": {
      "needs_background": "light"
     },
     "output_type": "display_data"
    }
   ],
   "source": [
    "fig, ax = plt.subplots(1, 3, figsize = (17, 5))\n",
    "for i, y in enumerate(np.unique(y)):\n",
    "    sns.distplot(multiclass_model.P[multiclass_model.y == y, i],\n",
    "                 hist_kws=dict(edgecolor=\"darkblue\"), \n",
    "                 color = 'cornflowerblue',\n",
    "                 bins = 15, \n",
    "                 kde = False,\n",
    "                 ax = ax[i]);\n",
    "    ax[i].set_xlabel(xlabel = fr'$P(y = {y})$', size = 14)\n",
    "    ax[i].set_title('Histogram for Observations in Class '+ str(y), size = 16)\n",
    "sns.despine()"
   ]
  },
  {
   "cell_type": "markdown",
   "metadata": {},
   "source": [
    "## Perceptron Algorithm"
   ]
  },
  {
   "cell_type": "code",
   "execution_count": 8,
   "metadata": {},
   "outputs": [],
   "source": [
    "# import data\n",
    "cancer = datasets.load_breast_cancer()\n",
    "X = cancer['data']\n",
    "y = cancer['target']"
   ]
  },
  {
   "cell_type": "code",
   "execution_count": 9,
   "metadata": {},
   "outputs": [],
   "source": [
    "# fit the model\n",
    "perceptron = Perceptron()\n",
    "perceptron.fit(X, y, n_iter = 1e3, lr = 0.01)"
   ]
  },
  {
   "cell_type": "code",
   "execution_count": 10,
   "metadata": {},
   "outputs": [
    {
     "name": "stdout",
     "output_type": "stream",
     "text": [
      "Not converged\n"
     ]
    }
   ],
   "source": [
    "# did the algorithm converge?\n",
    "if perceptron.converged:\n",
    "    print(f\"Converged after {perceptron.iterations_until_convergence} iterations\")\n",
    "else:\n",
    "    print(\"Not converged\")"
   ]
  },
  {
   "cell_type": "code",
   "execution_count": 11,
   "metadata": {},
   "outputs": [
    {
     "data": {
      "text/plain": [
       "0.9349736379613357"
      ]
     },
     "execution_count": 11,
     "metadata": {},
     "output_type": "execute_result"
    }
   ],
   "source": [
    "# find the accuracy\n",
    "np.mean(perceptron.yhat == perceptron.y)"
   ]
  }
 ],
 "metadata": {
  "interpreter": {
   "hash": "d7a904506839dc2342b7f8fe093c27425687042831ca909a50109badab64324e"
  },
  "kernelspec": {
   "display_name": "Python 3.9.5 64-bit ('venv': venv)",
   "language": "python",
   "name": "python3"
  },
  "language_info": {
   "codemirror_mode": {
    "name": "ipython",
    "version": 3
   },
   "file_extension": ".py",
   "mimetype": "text/x-python",
   "name": "python",
   "nbconvert_exporter": "python",
   "pygments_lexer": "ipython3",
   "version": "3.9.5"
  },
  "orig_nbformat": 4
 },
 "nbformat": 4,
 "nbformat_minor": 2
}
